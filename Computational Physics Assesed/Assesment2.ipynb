{
 "cells": [
  {
   "cell_type": "markdown",
   "id": "dd0d3e5b",
   "metadata": {},
   "source": [
    "# Assignment 2\n",
    "### Ben Elliot 21005900\n",
    "\n",
    "This week we are investigating the quantum harmonic oscillator in both 1D and 2D and using optimisation and minimisation techniques to find the value of certain coefficients in the wavefunction equation that give the a minimum in the energy.\n",
    "\n",
    "In this notebook and exercise we are using atomic units where $\\hbar = m_e = 1$ and the unit of energy is the Hartree (Ha)."
   ]
  },
  {
   "cell_type": "markdown",
   "id": "88de5960",
   "metadata": {},
   "source": [
    "### PART 1 - The 1D potential\n",
    "\n",
    "In the first part of this notebook we will be looking at the 1D potential and looking to find a minimum in its value.\n",
    "\n",
    "We will be using the equation:\n",
    "$$ E_{GS} = \\frac{\\alpha}{2} + \\frac{1}{8 \\alpha} $$\n"
   ]
  },
  {
   "cell_type": "code",
   "execution_count": null,
   "id": "b04d8409",
   "metadata": {},
   "outputs": [],
   "source": [
    "#Import statements\n",
    "import matplotlib.pyplot as plt\n",
    "import numpy as np\n",
    "from scipy import optimize\n",
    "%matplotlib inline"
   ]
  },
  {
   "cell_type": "code",
   "execution_count": null,
   "id": "4e4fcf6b",
   "metadata": {},
   "outputs": [],
   "source": [
    "def dE_dalpha(alpha):\n",
    "    \"\"\"\n",
    "    Finds gradient of Energy for a given value of alpha\n",
    "    Inputs: alpha (Value of alpha for which the gradient is to be calculated at)\n",
    "    Returns: gradient of the energy function at a point.\n",
    "    \"\"\"\n",
    "    return 1/2 - 1/(8 * alpha**2)"
   ]
  },
  {
   "cell_type": "code",
   "execution_count": null,
   "id": "debff28c",
   "metadata": {},
   "outputs": [],
   "source": [
    "def bisection(func, a, b, tol):\n",
    "    \"\"\"\n",
    "    A bisection routine to calulate where a root lies for a given function.\n",
    "    Inputs:\n",
    "    func - function for bisection to be performed on\n",
    "    a - starting point 1\n",
    "    b - starting point 2 \n",
    "            NOTE these points have to bracket a root for the bisection to work\n",
    "    Returns:\n",
    "    i - iterator which counts how many times the bisection ran before exiting\n",
    "    c - x value for the root\n",
    "    \"\"\"\n",
    "    # Initialise variables\n",
    "    i = 0\n",
    "    c = (a + b)/2\n",
    "    \n",
    "    while (abs(func(c)) >= tol) and (i < 2000):\n",
    "        i += 1\n",
    "        #Update one of the bracket points\n",
    "        if func(c) * func(a) > 0:\n",
    "            a = c\n",
    "        else:\n",
    "            b = c\n",
    "        #Find new midpoint\n",
    "        c = (a + b) / 2\n",
    "    \n",
    "    return i, c\n",
    "        \n",
    "    "
   ]
  },
  {
   "cell_type": "code",
   "execution_count": null,
   "id": "b6985249",
   "metadata": {},
   "outputs": [],
   "source": [
    "#Plotting the graph of the derivative of the energy\n",
    "alpha = np.linspace(-5, 5, 100)\n",
    "plt.plot(alpha, dE_dalpha(alpha))\n",
    "plt.axhline(ls=':',c='k')\n",
    "#Adding labels to the plot\n",
    "plt.title(\"Derivative of energy for optimisation\")\n",
    "plt.xlabel(\"x\")\n",
    "plt.ylabel(r\"$\\frac{dE}{d\\alpha}$\")"
   ]
  },
  {
   "cell_type": "markdown",
   "id": "e17b3850",
   "metadata": {},
   "source": [
    "The graph shows there are two roots, one between -1 and 0.25 and one between 0.25 and 1. I will choose the  root between 0.25 and 1, as it is a minimum rather than a maximum and also gives positive energy values. I also need to make sure to avoid 0 as the derivative diverges at that point."
   ]
  },
  {
   "cell_type": "code",
   "execution_count": null,
   "id": "11afae27",
   "metadata": {},
   "outputs": [],
   "source": [
    "# Calculating the root\n",
    "i, alpha = bisection(dE_dalpha, 0.1, 1, 1e-8)\n",
    "print(f\"The value of alpha that gives minimum energy is:\", alpha)"
   ]
  },
  {
   "cell_type": "markdown",
   "id": "3809aafb",
   "metadata": {},
   "source": [
    "We get a minimum of the energy equation at alpha = 1/2"
   ]
  },
  {
   "cell_type": "markdown",
   "id": "035f5872",
   "metadata": {},
   "source": [
    "### PART 2 - Looking at a 2D potential\n",
    "\n",
    "In this part we will be looking at the 2D quantum harmonic oscillator, again trying to find the values that minimise energy. In this section we will be using the equation:\n",
    "\n",
    "$$ E_{GS} = \\frac{\\alpha}{2} + \\frac{1}{8 \\alpha} + \\frac{\\beta}{2} + \\frac{1}{8 \\beta}$$\n",
    "\n"
   ]
  },
  {
   "cell_type": "code",
   "execution_count": null,
   "id": "56248a25",
   "metadata": {},
   "outputs": [],
   "source": [
    "def energy(varIn):\n",
    "    \"\"\"\n",
    "    Function to calculate the energy of a harmonic oscillator for an array of alpha and beta values.\n",
    "    Inputs: varIn - [alpha, beta]\n",
    "    Returns: E - value of energy from above equation\n",
    "    \"\"\"\n",
    "    a = varIn[0]\n",
    "    b = varIn[1]\n",
    "    E = a/2 + 1/(8*a) + b/2 + 1/(8*b)\n",
    "    return E"
   ]
  },
  {
   "cell_type": "code",
   "execution_count": null,
   "id": "c060379c",
   "metadata": {},
   "outputs": [],
   "source": [
    "#Setting up the range of points for the minimisation\n",
    "a = np.linspace(-5, 5, 200)\n",
    "b = np.linspace(-5, 5, 200)\n",
    "\n",
    "a2D, b2D = np.meshgrid(a,b)\n",
    "\n",
    "#Putting the individual energy values into one array\n",
    "energy2D = energy(np.array([a2D, b2D]))\n",
    "\n",
    "#Plotting the energy using a 3D plot\n",
    "fig, ax = plt.subplots(subplot_kw={\"projection\": \"3d\"}, figsize = (8,8))\n",
    "plot_3D = ax.plot_surface(a2D, b2D, energy2D, cmap='YlGnBu', antialiased = 'false')\n",
    "\n",
    "# Add a color bar.\n",
    "fig.colorbar(plot_3D, shrink=0.4, aspect=10, pad = 0.1)\n",
    "\n",
    "ax.set_title(\"Energy of 2D harmonic oscillator\")\n",
    "ax.set(xlabel=r\"$\\alpha$\", ylabel =r\"$\\beta$\", zlabel = \"Energy\")\n",
    "\n",
    "\n"
   ]
  },
  {
   "cell_type": "markdown",
   "id": "75217bd9",
   "metadata": {},
   "source": [
    "Although this graph looks a bit odd, it does look consistant with the 1D graph from the equation before where it diverges around 0 giving the weird spikes you can see in the graph."
   ]
  },
  {
   "cell_type": "code",
   "execution_count": null,
   "id": "76587df8",
   "metadata": {},
   "outputs": [],
   "source": [
    "def vector_gradient(varIn):\n",
    "    \"\"\"\n",
    "    Calculates the vector gradient of the Energy equation\n",
    "    Inputs:\n",
    "    VarIn - [alpha, beta]\n",
    "    Returns:\n",
    "    dE - [dE/da, dE/db]\n",
    "    \"\"\"\n",
    "    a = varIn[0]\n",
    "    b = varIn[1]\n",
    "    dE_a = 1/2 - 1/(8*a**2)\n",
    "    dE_b = 1/2 - 1/(8*b**2)\n",
    "    dE = np.array([dE_a, dE_b])\n",
    "    return dE"
   ]
  },
  {
   "cell_type": "code",
   "execution_count": null,
   "id": "9f303598",
   "metadata": {},
   "outputs": [],
   "source": [
    "#Using scipy to optimize the energy\n",
    "x0 = np.array([3, 3])\n",
    "result = optimize.minimize(energy, x0, method = 'CG', jac = vector_gradient)\n",
    "print(result.success)\n",
    "print(f\"Minimum at: \", result.x)\n",
    "print(\"Iterations: \", result.nit)"
   ]
  },
  {
   "cell_type": "markdown",
   "id": "33b24c79",
   "metadata": {},
   "source": [
    "SciPy managed to find a minimum at alpha = 1/2 and beta = 1/2 in very few steps, although the number of steps and wether it converged on a value at all did depend on the starting point. There was also another turning point at alpha = -1/2, beta =-1/2.\n",
    "\n"
   ]
  },
  {
   "cell_type": "code",
   "execution_count": null,
   "id": "c2c2d7f5",
   "metadata": {},
   "outputs": [],
   "source": []
  }
 ],
 "metadata": {
  "kernelspec": {
   "display_name": "Python 3 (ipykernel)",
   "language": "python",
   "name": "python3"
  },
  "language_info": {
   "codemirror_mode": {
    "name": "ipython",
    "version": 3
   },
   "file_extension": ".py",
   "mimetype": "text/x-python",
   "name": "python",
   "nbconvert_exporter": "python",
   "pygments_lexer": "ipython3",
   "version": "3.8.1"
  }
 },
 "nbformat": 4,
 "nbformat_minor": 5
}
